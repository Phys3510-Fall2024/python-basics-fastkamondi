{
 "cells": [
  {
   "cell_type": "code",
   "execution_count": 7,
   "id": "1bd828f0-3732-4cb7-8b45-ba915220a578",
   "metadata": {},
   "outputs": [
    {
     "name": "stdout",
     "output_type": "stream",
     "text": [
      "Hello, world\n",
      "HELLO, WORLD\n",
      "hello, world\n",
      "Hello, World\n",
      "['Hello,', 'world']\n"
     ]
    }
   ],
   "source": [
    "# TEST\n",
    "\n",
    "greeting = \"Hello, world\"\n",
    "\n",
    "print(greeting)\n",
    "print(greeting.upper())\n",
    "print(greeting.lower())\n",
    "print(greeting.title())\n",
    "print(greeting.split())"
   ]
  },
  {
   "cell_type": "markdown",
   "id": "7fc78e0b-562c-43a5-9efe-4f4983573040",
   "metadata": {},
   "source": [
    "### TEST\n",
    "\n",
    "$$ f(x) = e^x = \\frac{x^0}{0!} + \\frac{x^1}{1!} + \\frac{x^2}{2!} + \\frac{x^3}{3!} + \\frac{x^4}{4!} + ... $$"
   ]
  },
  {
   "cell_type": "code",
   "execution_count": null,
   "id": "b281d4a2-8638-4c1a-a274-e2e776a6348d",
   "metadata": {},
   "outputs": [],
   "source": []
  }
 ],
 "metadata": {
  "kernelspec": {
   "display_name": "Python 3 (ipykernel)",
   "language": "python",
   "name": "python3"
  },
  "language_info": {
   "codemirror_mode": {
    "name": "ipython",
    "version": 3
   },
   "file_extension": ".py",
   "mimetype": "text/x-python",
   "name": "python",
   "nbconvert_exporter": "python",
   "pygments_lexer": "ipython3",
   "version": "3.9.19"
  }
 },
 "nbformat": 4,
 "nbformat_minor": 5
}
